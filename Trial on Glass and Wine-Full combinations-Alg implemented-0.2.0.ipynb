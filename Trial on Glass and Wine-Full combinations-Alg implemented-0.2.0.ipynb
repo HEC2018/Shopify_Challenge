{
 "cells": [
  {
   "cell_type": "code",
   "execution_count": 1,
   "metadata": {},
   "outputs": [],
   "source": [
    "import copy\n",
    "import itertools\n",
    "import matplotlib.pyplot as plt\n",
    "import seaborn as sns\n",
    "import autograd.numpy as np\n",
    "from sklearn import datasets, preprocessing\n",
    "import pandas as pd\n",
    "from pymanopt.solvers import TrustRegions\n",
    "from manopt_dr.core import gen_ldr\n",
    "from manopt_dr.predefined_func_generator import *\n",
    "import plotly.graph_objects as go\n",
    "from plotly.subplots import make_subplots\n",
    "import os\n",
    "from scipy.spatial import ConvexHull, convex_hull_plot_2d\n",
    "from scipy.interpolate import interp1d"
   ]
  },
  {
   "cell_type": "code",
   "execution_count": 2,
   "metadata": {},
   "outputs": [],
   "source": [
    "# Generate data\n",
    "\n",
    "\"\"\"\n",
    "Class Distribution: (out of 214 total instances)\n",
    "    -- 163 Window glass (building windows and vehicle windows)\n",
    "       -- 87 float processed  \n",
    "          -- 70 building windows\n",
    "          -- 17 vehicle windows\n",
    "       -- 76 non-float processed\n",
    "          -- 76 building windows\n",
    "          -- 0 vehicle windows\n",
    "    -- 51 Non-window glass\n",
    "       -- 13 containers\n",
    "       -- 9 tableware\n",
    "       -- 29 headlamps\n",
    "7 labels\n",
    "\"\"\"\n",
    "\n",
    "X = pd.read_csv(\"glass.csv\", header = None,usecols=[ 1,2,3,4,5,6,7,8,9],delim_whitespace=False)\n",
    "y = pd.read_csv(\"glass.csv\", header = None,usecols=[ 10],delim_whitespace=False)\n",
    "\n",
    "\n",
    "n_samples, n_features = X.shape\n",
    "X = X.values.tolist()\n",
    "y = y.values.tolist()\n",
    "mapped = []\n",
    "for j in y:\n",
    "    mapped.append(' '.join(map(str, j)) )\n",
    "y = mapped\n",
    "d = dict([(b,a) for a,b in enumerate(sorted(set(y)))])\n",
    "y = [d[i] for i in y]\n",
    "n_components = 2\n",
    "X = preprocessing.scale(X)\n"
   ]
  },
  {
   "cell_type": "code",
   "execution_count": 3,
   "metadata": {},
   "outputs": [],
   "source": [
    "# generalized cPCA\n",
    "\n",
    "GCPCA = gen_ldr(gen_cost_gcpca, gen_default_proj)\n",
    "label_set = [1,2,3,4,5,6,7]\n",
    "\n",
    "\n",
    "def return_partition(my_list):\n",
    "    filtered=[]\n",
    "    for l in range(1,len(my_list)):\n",
    "        for c in itertools.combinations(my_list,l):\n",
    "            filtered.append(c)\n",
    "    return filtered\n",
    "\n",
    "partitions = return_partition(label_set)\n",
    "\n",
    "def print_groups(groups):\n",
    "    s = \"\"\n",
    "    for g in range(len(groups)):\n",
    "        if g == len(groups) - 1:\n",
    "            s += str(groups[g])\n",
    "        else:\n",
    "            s += str(groups[g]) + \",\"\n",
    "    return s\n",
    "\n",
    "def print_groups_index(index):\n",
    "    groups =  partitions[index]\n",
    "    s = \"\"\n",
    "    for g in range(len(groups)):\n",
    "        if g == len(groups) - 1:\n",
    "            s += str(groups[g])\n",
    "        else:\n",
    "            s += str(groups[g]) + \",\"\n",
    "    return s\n",
    "\n",
    "#for p in partitions:\n",
    "#    print(print_groups(p))\n",
    "#print(len(partitions))\n",
    "\n",
    "\n"
   ]
  },
  {
   "cell_type": "code",
   "execution_count": 4,
   "metadata": {},
   "outputs": [],
   "source": [
    "def Trials(g1,g2):    \n",
    "\n",
    "#    print(par[0])\n",
    "#    print(par[1])\n",
    "    y_tg = copy.deepcopy(y)\n",
    "    y_tg = np.asarray(y_tg)\n",
    "\n",
    "    for i in g1:\n",
    "        y_tg[y_tg == i] = -1\n",
    "\n",
    "    y_bg = copy.deepcopy(y)\n",
    "    y_bg = np.asarray(y_bg)\n",
    "\n",
    "    for i in g2:\n",
    "        y_bg[y_bg == i] = -1\n",
    "\n",
    "    gcpca = GCPCA(n_components=n_components).fit(X, y_tg, y_bg)\n",
    "    Z = gcpca.transform(X)\n",
    "    cost = gcpca.get_final_cost()\n",
    "    contrastiveness = 1 / cost\n",
    "\n",
    "    # Plot\n",
    "    \n",
    "\n",
    "    tg_x = [Z[i][0] for i in range(len(y)) if y[i] in g1]\n",
    "    tg_y = [Z[i][1] for i in range(len(y)) if y[i] in g1]\n",
    "    bg_x = [Z[i][0] for i in range(len(y)) if y[i] in g2]\n",
    "    bg_y = [Z[i][1] for i in range(len(y)) if y[i] in g2]\n",
    "    tg_x,tg_y,bg_x, bg_y = bg_x, bg_y, tg_x, tg_y\n",
    "\n",
    "    #plt.scatter(tg_x, tg_y, marker='^',label = \"target\", color='r')\n",
    "    #plt.scatter(bg_x, bg_y, marker='o',label = \"background\", color='black')\n",
    "    return contrastiveness"
   ]
  },
  {
   "cell_type": "code",
   "execution_count": 5,
   "metadata": {},
   "outputs": [],
   "source": [
    "map_dataset = []\n",
    "for i in range(len(partitions)):\n",
    "    row = []\n",
    "    rec = [l for l in label_set if l not in partitions[i]]\n",
    "    c = Trials(partitions[i],rec)\n",
    "    row = [ list(partitions[i]), rec ,c]\n",
    "    map_dataset.append(row)\n",
    "\n",
    "columns = [\"T : {\" + print_groups(x[1]) +  \"} B : {\" + print_groups(x[0]) + \"}\" for x in map_dataset]\n",
    "values = [x[2] for x in map_dataset]\n",
    "\n",
    "\n",
    "    "
   ]
  },
  {
   "cell_type": "code",
   "execution_count": 6,
   "metadata": {},
   "outputs": [
    {
     "name": "stdout",
     "output_type": "stream",
     "text": [
      "Contrastiveness\n"
     ]
    }
   ],
   "source": [
    "import csv\n",
    "print(\"Contrastiveness\")\n",
    "row_list = [[\"Target and Background set\", \"Contrastiveness\"]]\n",
    "for i in range(len(columns)):\n",
    "    row_list.append([columns[i] ,values[i]])\n",
    "\n",
    "with open('glass_combinations.csv', 'w', newline='') as file:\n",
    "    writer = csv.writer(file)\n",
    "    writer.writerows(row_list)"
   ]
  },
  {
   "cell_type": "code",
   "execution_count": 7,
   "metadata": {},
   "outputs": [
    {
     "name": "stdout",
     "output_type": "stream",
     "text": [
      "The starting target set:1\n",
      "The starting background set:2\n",
      "The output of algorithm:\n",
      "[1, 3, 4, 5] [2, 6, 7] 87.9108912274696\n",
      "The actual output\n",
      "[1, 3, 4, 5, 6] [2, 7] 87.91089122746759\n",
      "Their differences: 2.0179413695586845e-12\n",
      "\n",
      "The starting target set:5\n",
      "The starting background set:2,3\n",
      "The output of algorithm:\n",
      "[1, 4, 5] [2, 3, 6, 7] 30.859658005447642\n",
      "The actual output\n",
      "[1, 4, 5, 6, 7] [2, 3] 30.859658005447617\n",
      "Their differences: 2.4868995751603507e-14\n",
      "\n",
      "The starting target set:1,2\n",
      "The starting background set:3,7\n",
      "The output of algorithm:\n",
      "[1, 2, 4, 5] [3, 7, 6] 32.89700391535255\n",
      "The actual output\n",
      "[1, 2, 4, 5, 6] [3, 7] 32.89700391540545\n",
      "Their differences: 5.289990667733946e-11\n",
      "\n"
     ]
    },
    {
     "data": {
      "text/plain": [
       "'    \\nfor i in range(len(partitions)):\\n    if len(partitions[i]) < len(label_set)-1:\\n        rec = [l for l in label_set if l not in partitions[i]]\\n        res = np.random.choice(rec, 1)\\n        check_accuracy(np.array(partitions[i]),np.array(res))\\n'"
      ]
     },
     "execution_count": 7,
     "metadata": {},
     "output_type": "execute_result"
    }
   ],
   "source": [
    "def search_maximum(tg_base,bg_base):\n",
    "    total = np.concatenate((tg_base , bg_base))\n",
    "    rec = [l for l in label_set if l not in total]\n",
    "    c = -1\n",
    "    bg_base = np.concatenate((bg_base,np.array(rec)))\n",
    "    #print(bg_base)\n",
    "    while len(rec) != 0:\n",
    "        e = -1\n",
    "        for r in rec:\n",
    "            tg = np.sort(np.append(np.array(copy.deepcopy(tg_base)),r))\n",
    "            bg = np.delete(np.array(copy.deepcopy(bg_base)),np.where(np.array(copy.deepcopy(bg_base)) == r))\n",
    "            c1 = Trials(bg,tg)\n",
    "            if c1 > c:\n",
    "                e = r\n",
    "                c = c1\n",
    "            #print(c1,tg,bg)\n",
    "        if e == -1:\n",
    "            return c, tg_base, bg_base\n",
    "        rec.remove(e)\n",
    "        tg_base = np.sort(np.append(tg_base,e))\n",
    "        bg_base = np.delete(bg_base,np.where(bg_base == e))\n",
    "    return c, tg_base, bg_base\n",
    "\n",
    "def check_accuracy(tg_base,bg_base):\n",
    "    ans = []\n",
    "    for i in map_dataset:\n",
    "        #print(i)\n",
    "        if all(x in i[1] for x in tg_base) and all(x in i[0] for x in bg_base):\n",
    "            row = [ i[1], i[0] ,i[2]]  \n",
    "            ans.append(row)\n",
    "    #print(ans)\n",
    "    max_c = -1\n",
    "    l1 = []\n",
    "    l2 = []\n",
    "    for i in ans:\n",
    "        if max_c < i[2]:\n",
    "            max_c = i[2]\n",
    "            l1 = i[0]\n",
    "            l2 = i[1]\n",
    "    #print(tg_base, bg_base)\n",
    "    c,t,b = search_maximum(tg_base, bg_base)\n",
    "    print(\"The starting target set:\" + print_groups(tg_base))\n",
    "    print(\"The starting background set:\" + print_groups(bg_base))    \n",
    "    print(\"The output of algorithm:\")\n",
    "    print(list(t),list(b),c)\n",
    "    print(\"The actual output\")\n",
    "    print(l1,l2,max_c)\n",
    "    print(\"Their differences: \" + str(abs(max_c - c)))\n",
    "    print()\n",
    "\n",
    "check_accuracy(np.array([1]),np.array([2]))\n",
    "check_accuracy(np.array([5]),np.array([2,3]))\n",
    "check_accuracy(np.array([1,2]),np.array([3,7]))\n",
    "\n",
    "\"\"\"    \n",
    "for i in range(len(partitions)):\n",
    "    if len(partitions[i]) < len(label_set)-1:\n",
    "        rec = [l for l in label_set if l not in partitions[i]]\n",
    "        res = np.random.choice(rec, 1)\n",
    "        check_accuracy(np.array(partitions[i]),np.array(res))\n",
    "\"\"\""
   ]
  },
  {
   "cell_type": "code",
   "execution_count": 8,
   "metadata": {},
   "outputs": [],
   "source": [
    "dataset = datasets.load_wine()\n",
    "\n",
    "X = dataset.data\n",
    "y = dataset.target\n",
    "n_samples, n_features = X.shape\n",
    "n_components = 2\n",
    "X = preprocessing.scale(X)\n",
    "label_set = [0,1,2]\n",
    "partitions = return_partition(label_set)"
   ]
  },
  {
   "cell_type": "code",
   "execution_count": 9,
   "metadata": {},
   "outputs": [],
   "source": [
    "map_dataset = []\n",
    "for i in range(len(partitions)):\n",
    "    row = []\n",
    "    rec = [l for l in label_set if l not in partitions[i]]\n",
    "    c = Trials(partitions[i],rec)\n",
    "    row = [ list(partitions[i]), rec ,c]\n",
    "    map_dataset.append(row)\n",
    "\n",
    "columns = [\"T : {\" + print_groups(x[1]) +  \"} B : {\" + print_groups(x[0]) + \"}\" for x in map_dataset]\n",
    "values = [x[2] for x in map_dataset]\n"
   ]
  },
  {
   "cell_type": "code",
   "execution_count": 10,
   "metadata": {},
   "outputs": [
    {
     "name": "stdout",
     "output_type": "stream",
     "text": [
      "Contrastiveness\n"
     ]
    }
   ],
   "source": [
    "import csv\n",
    "print(\"Contrastiveness\")\n",
    "row_list = [[\"Target and Background set\", \"Contrastiveness\"]]\n",
    "for i in range(len(columns)):\n",
    "    row_list.append([columns[i] ,values[i]])\n",
    "\n",
    "with open('wine_combinations.csv', 'w', newline='') as file:\n",
    "    writer = csv.writer(file)\n",
    "    writer.writerows(row_list)"
   ]
  },
  {
   "cell_type": "code",
   "execution_count": 11,
   "metadata": {},
   "outputs": [
    {
     "name": "stdout",
     "output_type": "stream",
     "text": [
      "The starting target set:0\n",
      "The starting background set:1\n",
      "The output of algorithm:\n",
      "[0, 2] [1] 6.472079454534599\n",
      "The actual output\n",
      "[0, 2] [1] 6.472079454534487\n",
      "Their differences: 1.1191048088221578e-13\n",
      "\n",
      "The starting target set:1\n",
      "The starting background set:2\n",
      "The output of algorithm:\n",
      "[0, 1] [2] 34.05370575578451\n",
      "The actual output\n",
      "[0, 1] [2] 34.053705755784534\n",
      "Their differences: 2.1316282072803006e-14\n",
      "\n",
      "The starting target set:2\n",
      "The starting background set:0\n",
      "The output of algorithm:\n",
      "[1, 2] [0] 21.215761318817975\n",
      "The actual output\n",
      "[1, 2] [0] 21.2157613188183\n",
      "Their differences: 3.232969447708456e-13\n",
      "\n"
     ]
    }
   ],
   "source": [
    "for i in range(len(partitions)):\n",
    "    if len(partitions[i]) < len(label_set) - 1:\n",
    "        rec = [l for l in label_set if l not in partitions[i]]\n",
    "        res = np.random.choice(rec, 1)\n",
    "        check_accuracy(np.array(partitions[i]),np.array(res))"
   ]
  },
  {
   "cell_type": "code",
   "execution_count": null,
   "metadata": {},
   "outputs": [],
   "source": []
  }
 ],
 "metadata": {
  "kernelspec": {
   "display_name": "Python 3",
   "language": "python",
   "name": "python3"
  },
  "language_info": {
   "codemirror_mode": {
    "name": "ipython",
    "version": 3
   },
   "file_extension": ".py",
   "mimetype": "text/x-python",
   "name": "python",
   "nbconvert_exporter": "python",
   "pygments_lexer": "ipython3",
   "version": "3.7.9"
  }
 },
 "nbformat": 4,
 "nbformat_minor": 4
}
