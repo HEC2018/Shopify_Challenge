{
 "cells": [
  {
   "cell_type": "code",
   "execution_count": 1,
   "metadata": {},
   "outputs": [],
   "source": [
    "import copy\n",
    "import itertools\n",
    "import matplotlib.pyplot as plt\n",
    "import seaborn as sns\n",
    "import autograd.numpy as np\n",
    "from sklearn import datasets, preprocessing\n",
    "import pandas as pd\n",
    "from pymanopt.solvers import TrustRegions\n",
    "from manopt_dr.core import gen_ldr\n",
    "from manopt_dr.predefined_func_generator import *\n",
    "import plotly.graph_objects as go\n",
    "from plotly.subplots import make_subplots\n",
    "import os"
   ]
  },
  {
   "cell_type": "code",
   "execution_count": 2,
   "metadata": {},
   "outputs": [],
   "source": [
    "# Generate data\n",
    "\n",
    "dataset = datasets.load_wine()\n",
    "\n",
    "X = dataset.data\n",
    "y = dataset.target\n",
    "n_samples, n_features = X.shape\n",
    "n_components = 2\n",
    "X = preprocessing.scale(X)\n"
   ]
  },
  {
   "cell_type": "code",
   "execution_count": 3,
   "metadata": {},
   "outputs": [
    {
     "name": "stdout",
     "output_type": "stream",
     "text": [
      "0\n",
      "1\n",
      "2\n",
      "0,1\n",
      "0,2\n",
      "1,2\n"
     ]
    }
   ],
   "source": [
    "# generalized cPCA\n",
    "\n",
    "GCPCA = gen_ldr(gen_cost_gcpca, gen_default_proj)\n",
    "label_set = [0,1,2]\n",
    "\n",
    "\n",
    "def return_partition(my_list):\n",
    "    filtered=[]\n",
    "    for l in range(1,len(my_list)):\n",
    "        for c in itertools.combinations(my_list,l):\n",
    "            filtered.append(c)\n",
    "    return filtered\n",
    "\n",
    "partitions = return_partition(label_set)\n",
    "\n",
    "def print_groups(groups):\n",
    "    s = \"\"\n",
    "    for g in range(len(groups)):\n",
    "        if g == len(groups) - 1:\n",
    "            s += str(groups[g])\n",
    "        else:\n",
    "            s += str(groups[g]) + \",\"\n",
    "    return s\n",
    "\n",
    "def print_groups_index(index):\n",
    "    groups =  partitions[index]\n",
    "    s = \"\"\n",
    "    for g in range(len(groups)):\n",
    "        if g == len(groups) - 1:\n",
    "            s += str(groups[g])\n",
    "        else:\n",
    "            s += str(groups[g]) + \",\"\n",
    "    return s\n",
    "\n",
    "for p in partitions:\n",
    "    print(print_groups(p))\n",
    "    \n",
    "def Trials(g1,g2):    \n",
    "\n",
    "#    print(par[0])\n",
    "#    print(par[1])\n",
    "    y_tg = copy.deepcopy(y)\n",
    "    y_tg = np.asarray(y_tg)\n",
    "\n",
    "    for i in g1:\n",
    "        y_tg[y_tg == i] = -1\n",
    "\n",
    "    y_bg = copy.deepcopy(y)\n",
    "    y_bg = np.asarray(y_bg)\n",
    "\n",
    "    for i in g2:\n",
    "        y_bg[y_bg == i] = -1\n",
    "\n",
    "    gcpca = GCPCA(n_components=n_components).fit(X, y_tg, y_bg)\n",
    "    Z = gcpca.transform(X)\n",
    "    cost = gcpca.get_final_cost()\n",
    "    contrastiveness = 1 / cost\n",
    "\n",
    "    # Plot\n",
    "    \n",
    "    #print(Z)\n",
    "    #if index1 == index2:\n",
    "    #    return contrastiveness\n",
    "    #print(print_groups(index1))\n",
    "    #print(print_groups(index2))\n",
    "    plt.figure(figsize=(10, 10))\n",
    "\n",
    "    tg_x = [Z[i][0] for i in range(len(y)) if y[i] in g1]\n",
    "    tg_y = [Z[i][1] for i in range(len(y)) if y[i] in g1]\n",
    "    bg_x = [Z[i][0] for i in range(len(y)) if y[i] in g2]\n",
    "    bg_y = [Z[i][1] for i in range(len(y)) if y[i] in g2]\n",
    "\n",
    "    #for i in range(len(Z)):\n",
    "    #    if y[i] in g1:\n",
    "    #        plt.plot(Z[i][0], Z[i][1],  'ro')\n",
    "    #    else:\n",
    "    #        plt.plot(Z[i][0], Z[i][1],  'ko')\n",
    "    \n",
    "    plt.scatter(tg_x, tg_y, marker='s',label = \"target\",facecolors='none', edgecolors='r')\n",
    "    plt.scatter(bg_x, bg_y, marker='o',label = \"background\",facecolors='none', edgecolors='black')\n",
    "\n",
    "    plt.legend(loc='best', shadow=False, scatterpoints=1)\n",
    "    plt.title(\n",
    "        f'Generalized cPCA of Wine dataset, target = ({print_groups(g1)}), background = ({print_groups(g2)})  (cost: {cost:.3f}, contrastiveness: {contrastiveness:.3f})' ,\n",
    "        fontsize=8)\n",
    "    #plt.show()\n",
    "    plt.savefig(f'{print_groups(g1)} - {print_groups(g2)}.png')\n",
    "    plt.clf()\n",
    "    \n",
    "    return contrastiveness\n"
   ]
  },
  {
   "cell_type": "code",
   "execution_count": 4,
   "metadata": {},
   "outputs": [
    {
     "data": {
      "text/plain": [
       "<Figure size 720x720 with 0 Axes>"
      ]
     },
     "metadata": {},
     "output_type": "display_data"
    },
    {
     "data": {
      "text/plain": [
       "<Figure size 720x720 with 0 Axes>"
      ]
     },
     "metadata": {},
     "output_type": "display_data"
    },
    {
     "data": {
      "text/plain": [
       "<Figure size 720x720 with 0 Axes>"
      ]
     },
     "metadata": {},
     "output_type": "display_data"
    },
    {
     "data": {
      "text/plain": [
       "<Figure size 720x720 with 0 Axes>"
      ]
     },
     "metadata": {},
     "output_type": "display_data"
    },
    {
     "data": {
      "text/plain": [
       "<Figure size 720x720 with 0 Axes>"
      ]
     },
     "metadata": {},
     "output_type": "display_data"
    },
    {
     "data": {
      "text/plain": [
       "<Figure size 720x720 with 0 Axes>"
      ]
     },
     "metadata": {},
     "output_type": "display_data"
    }
   ],
   "source": [
    "map_dataset = []\n",
    "for i in range(len(partitions)):\n",
    "    row = []\n",
    "    rec = [l for l in label_set if l not in partitions[i]]\n",
    "    c = Trials(partitions[i],rec)\n",
    "    row = [ list(partitions[i]), rec ,c]\n",
    "    map_dataset.append(row)\n",
    "\n",
    "#map_dataset = pd.DataFrame(map_dataset)\n"
   ]
  },
  {
   "cell_type": "code",
   "execution_count": 6,
   "metadata": {},
   "outputs": [],
   "source": [
    "#for x in map_dataset:\n",
    "#    print(x)\n",
    "columns = [(\"T : {\" + print_groups(x[0]) +  \"}\",  \"B : {\" + print_groups(x[1]) + \"}\") for x in map_dataset]\n",
    "values = [round(x[2],6) for x in map_dataset]\n",
    "#print(map_dataset)\n",
    "#print(columns)\n",
    "columns.insert(0,\" \")\n",
    "values.insert(0,\"Contrast\")\n",
    "#print(rows)\n",
    "\n",
    "#values = pd.DataFrame(values,columns=['Contrastiveness'])\n",
    "#print(values)\n",
    "\n",
    "fig = go.Figure(data=[go.Table(header=dict(values = columns, align = \"left\",   font=dict(color='white', size=12)),\n",
    "                 cells=dict(values = values))\n",
    "                              ])\n",
    "fig.write_image(\"Table.png\")\n",
    "#map_dataset.rename(columns=lambda s: print_groups_index(s), index=lambda s: print_groups_index(s), inplace = True )\n",
    "#sns.heatmap(map_dataset,cmap=\"YlGnBu\", linewidths=.5)\n",
    "#plt.xlabel(\"Target\")\n",
    "#plt.ylabel(\"Background\")\n",
    "#plt.gca().invert_yaxis()\n",
    "#plt.show()\n",
    "#plt.savefig(\"heatmap_wine.png\")"
   ]
  },
  {
   "cell_type": "code",
   "execution_count": null,
   "metadata": {},
   "outputs": [],
   "source": []
  }
 ],
 "metadata": {
  "kernelspec": {
   "display_name": "Python 3",
   "language": "python",
   "name": "python3"
  },
  "language_info": {
   "codemirror_mode": {
    "name": "ipython",
    "version": 3
   },
   "file_extension": ".py",
   "mimetype": "text/x-python",
   "name": "python",
   "nbconvert_exporter": "python",
   "pygments_lexer": "ipython3",
   "version": "3.8.5"
  }
 },
 "nbformat": 4,
 "nbformat_minor": 4
}
